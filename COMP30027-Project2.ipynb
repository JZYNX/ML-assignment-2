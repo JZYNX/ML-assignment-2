{
 "cells": [
  {
   "cell_type": "markdown",
   "metadata": {},
   "source": [
    "The University of Melbourne, School of Computing and Information Systems\n",
    "\n",
    "# COMP30027 Machine Learning, 2024 Semester 1\n",
    "## Project 2: IMDB Movie Rating Prediction\n",
    "\n",
    "The goal of this project is to build and critically analyze supervised machine learning methods for predicting IMDB movie ratings based on various predictor variables that include movie-title, duration, director and actor(s) names and facebook likes, keywords, genre, country, budget, and others. There are five possible outcomes 0 being the lowest and 4 being the highest.\n",
    "\n",
    "This assignment aims to reinforce the largely theoretical lecture concepts surrounding data representation, classifier construction, evaluation and error analysis, by applying them to an open-ended problem. You will also have an opportunity to practice your general problem-solving skills, written communication skills, and critical thinking skills"
   ]
  },
  {
   "cell_type": "markdown",
   "metadata": {},
   "source": [
    "# Imports\n"
   ]
  },
  {
   "cell_type": "code",
   "execution_count": 47,
   "metadata": {},
   "outputs": [],
   "source": [
    "import pandas as pd\n",
    "import csv\n",
    "import numpy as np\n",
    "\n",
    "# general\n",
    "from sklearn.model_selection import train_test_split, GridSearchCV\n",
    "from sklearn.preprocessing import StandardScaler, OneHotEncoder, MinMaxScaler, PolynomialFeatures\n",
    "from sklearn.compose import ColumnTransformer\n",
    "from sklearn.pipeline import Pipeline\n",
    "from sklearn.metrics import accuracy_score\n",
    "from sklearn.impute import SimpleImputer\n",
    "from sklearn.feature_selection import SelectKBest, f_classif\n",
    "\n",
    "# classifiers\n",
    "from sklearn.naive_bayes import GaussianNB\n",
    "from sklearn.neighbors import KNeighborsClassifier\n",
    "from sklearn.tree import DecisionTreeClassifier\n",
    "from sklearn.ensemble import RandomForestClassifier\n",
    "from sklearn.svm import SVC\n",
    "\n",
    "# visualisation\n",
    "from sklearn import tree\n",
    "import matplotlib.pyplot as plt"
   ]
  },
  {
   "cell_type": "markdown",
   "metadata": {},
   "source": [
    "# Read data into Dataframes\n"
   ]
  },
  {
   "cell_type": "code",
   "execution_count": 37,
   "metadata": {},
   "outputs": [],
   "source": [
    "# Read training and testing dataset into dataframes\n",
    "train_df = pd.read_csv(\"project_data/train_dataset.csv\")\n",
    "test_df = pd.read_csv(\"project_data/test_dataset.csv\")\n",
    "\n",
    "# Separate features and class for training df\n",
    "X = train_df.drop(columns=[\"imdb_score_binned\"])\n",
    "y = train_df[\"imdb_score_binned\"]\n",
    "\n",
    "# Test dataset only contains features without labels \n",
    "X_test = test_df\n"
   ]
  },
  {
   "cell_type": "markdown",
   "metadata": {},
   "source": [
    "# Preprocess Data"
   ]
  },
  {
   "cell_type": "code",
   "execution_count": 38,
   "metadata": {},
   "outputs": [],
   "source": [
    "# Define preprocessing steps for both numerical and text data\n",
    "numeric_features = X.select_dtypes(include=['int64', 'float64']).columns\n",
    "categorical_features = X.select_dtypes(include=['object']).columns\n",
    "\n",
    "# Preprocessing for numerical data\n",
    "numeric_transformer = Pipeline(steps=[\n",
    "    ('imputer', SimpleImputer(strategy='mean')), \n",
    "    ('scaler', StandardScaler())\n",
    "])\n",
    "\n",
    "# Preprocessing for categorical data\n",
    "categorical_transformer = Pipeline(steps=[\n",
    "    ('imputer', SimpleImputer(strategy='most_frequent')),\n",
    "    ('onehot', OneHotEncoder(handle_unknown='ignore'))\n",
    "])\n",
    "\n",
    "# Combine preprocessing steps\n",
    "preprocessor = ColumnTransformer(\n",
    "    transformers=[\n",
    "        ('num', numeric_transformer, numeric_features),\n",
    "        ('cat', categorical_transformer, categorical_features)\n",
    "    ])\n",
    "\n",
    "# Load the features from the .npy files\n",
    "train_fasttext_title_embeddings = np.load('project_data/features_fasttext/train_fasttext_title_embeddings.npy')\n",
    "train_doc2vec_features_plot_keywords = np.load('project_data/features_doc2vec/train_doc2vec_features_plot_keywords.npy')\n",
    "train_doc2vec_features_genre = np.load('project_data/features_doc2vec/train_doc2vec_features_genre.npy')\n",
    "\n",
    "test_fasttext_title_embeddings = np.load('project_data/features_fasttext/test_fasttext_title_embeddings.npy')\n",
    "test_doc2vec_features_plot_keywords = np.load('project_data/features_doc2vec/test_doc2vec_features_plot_keywords.npy')\n",
    "test_doc2vec_features_genre = np.load('project_data/features_doc2vec/test_doc2vec_features_genre.npy')\n",
    "\n",
    "# Replace each feature with its respective transformed version\n",
    "X['title_embedding'] = train_fasttext_title_embeddings\n",
    "X['plot_keywords'] = train_doc2vec_features_plot_keywords\n",
    "X['genres'] = train_doc2vec_features_genre\n",
    "\n",
    "X_test['title_embedding'] = test_fasttext_title_embeddings\n",
    "X_test['plot_keywords'] = test_doc2vec_features_plot_keywords\n",
    "X_test['genres'] = test_doc2vec_features_genre\n",
    "\n"
   ]
  },
  {
   "cell_type": "markdown",
   "metadata": {},
   "source": [
    "# Further Data Cleaning"
   ]
  },
  {
   "cell_type": "code",
   "execution_count": 39,
   "metadata": {},
   "outputs": [
    {
     "name": "stdout",
     "output_type": "stream",
     "text": [
      "Sorted X by num_voted_users:\n",
      "Corresponding y values:\n",
      "[4, 4, 4, 4, 4, 4, 4, 4, 4, 4, 4, 4, 4, 4, 4, 4, 4, 4, 4, 4, 4, 4, 3, 4, 4, 4, 4, 4, 4, 4, 4, 4, 4, 4, 3, 3, 4, 4, 4, 4, 4, 4, 4, 4, 4, 3, 4, 4, 4, 4, 3, 4, 4, 4, 4, 4, 3, 3, 4, 4, 4, 4, 4, 3, 4, 3, 4, 4, 4, 2, 2, 4, 3, 4, 3, 3, 2, 3, 3, 3, 4, 3, 3, 3, 3, 3, 3, 4, 3, 4, 4, 4, 3, 4, 3, 3, 4, 3, 4, 3, 3, 3, 3, 4, 4, 2, 3, 4, 3, 3, 3, 2, 4, 3, 3, 4, 4, 3, 3, 2, 3, 4, 4, 4, 3, 2, 4, 3, 3, 4, 3, 3, 3, 3, 3, 3, 3, 3, 3, 4, 3, 3, 3, 3, 3, 3, 3, 3, 2, 3, 3, 3, 3, 4, 2, 2, 3, 4, 3, 3, 3, 4, 2, 3, 2, 3, 3, 2, 3, 3, 3, 3, 3, 3, 3, 3, 2, 3, 3, 2, 3, 2, 2, 2, 3, 2, 3, 3, 2, 4, 2, 4, 3, 2, 3, 3, 2, 2, 3, 2, 3, 3, 3, 2, 2, 3, 3, 2, 2, 4, 3, 3, 3, 2, 3, 3, 3, 2, 3, 2, 3, 3, 4, 2, 3, 2, 2, 2, 2, 3, 3, 3, 3, 3, 3, 2, 3, 3, 3, 2, 2, 3, 3, 3, 4, 3, 3, 3, 4, 3, 3, 3, 3, 2, 2, 2, 2, 2, 3, 3, 3, 3, 3, 3, 3, 3, 3, 3, 2, 4, 3, 3, 2, 3, 3, 3, 2, 3, 2, 2, 2, 4, 4, 3, 2, 2, 2, 3, 3, 2, 3, 3, 2, 3, 3, 2, 3, 4, 2, 3, 3, 2, 2, 3, 3, 3, 3, 3, 3, 3, 4, 3, 3, 4, 2, 2, 3, 2, 2, 3, 3, 2, 3, 3, 2, 4, 3, 2, 2, 2, 3, 2, 2, 2, 3, 3, 2, 3, 2, 3, 2, 3, 3, 3, 3, 3, 3, 2, 3, 3, 2, 3, 3, 3, 3, 2, 2, 2, 2, 3, 4, 2, 2, 2, 3, 2, 2, 2, 2, 3, 3, 3, 3, 2, 3, 2, 3, 3, 4, 3, 1, 3, 2, 1, 2, 3, 3, 2, 2, 3, 3, 3, 2, 3, 4, 2, 4, 3, 2, 3, 2, 2, 3, 2, 2, 2, 2, 3, 2, 3, 2, 2, 3, 3, 2, 2, 3, 3, 2, 2, 3, 3, 3, 3, 3, 3, 2, 2, 2, 2, 2, 3, 2, 2, 3, 3, 2, 3, 2, 3, 2, 2, 3, 3, 2, 2, 3, 4, 2, 2, 3, 3, 3, 3, 2, 3, 4, 4, 2, 2, 2, 3, 2, 2, 3, 3, 3, 3, 1, 3, 2, 3, 3, 3, 3, 3, 2, 3, 2, 3, 3, 3, 2, 2, 3, 2, 2, 3, 2, 3, 2, 2, 2, 2, 3, 2, 2, 2, 4, 3, 3, 2, 2, 2, 2, 2, 3, 3, 2, 2, 2, 2, 3, 2, 2, 3, 3, 3, 2, 3, 3, 2, 2, 2, 3, 3, 4, 3, 2, 2, 4, 3, 2, 3, 3, 4, 2, 2, 2, 2, 2, 2, 3, 3, 3, 2, 2, 3, 4, 3, 3, 2, 3, 3, 3, 4, 3, 2, 2, 2, 2, 2, 2, 3, 2, 2, 2, 2, 2, 2, 3, 2, 3, 1, 2, 3, 2, 3, 2, 3, 3, 2, 4, 2, 3, 3, 2, 2, 2, 3, 2, 2, 2, 2, 1, 2, 2, 3, 3, 2, 2, 3, 2, 2, 2, 2, 2, 2, 2, 2, 3, 2, 2, 2, 3, 2, 2, 3, 3, 3, 4, 2, 2, 3, 3, 3, 3, 2, 2, 2, 2, 2, 3, 4, 3, 2, 3, 3, 3, 3, 2, 3, 3, 2, 3, 3, 3, 2, 3, 2, 3, 2, 2, 3, 2, 2, 2, 2, 2, 3, 3, 2, 3, 2, 2, 3, 3, 3, 2, 3, 2, 3, 3, 4, 3, 2, 3, 3, 2, 3, 2, 3, 2, 3, 2, 3, 2, 2, 2, 2, 2, 2, 3, 3, 2, 3, 2, 3, 3, 2, 3, 2, 2, 2, 2, 2, 3, 3, 2, 2, 2, 3, 2, 3, 3, 2, 2, 2, 2, 3, 2, 3, 3, 3, 2, 3, 2, 2, 2, 2, 2, 3, 2, 3, 3, 2, 3, 4, 2, 2, 2, 3, 2, 2, 2, 1, 3, 3, 2, 2, 2, 3, 2, 3, 2, 3, 2, 2, 2, 3, 3, 2, 3, 3, 2, 3, 2, 2, 2, 2, 2, 2, 2, 2, 2, 3, 2, 3, 2, 2, 2, 2, 2, 2, 2, 2, 3, 3, 2, 3, 2, 2, 2, 2, 2, 2, 2, 1, 2, 2, 2, 3, 2, 3, 2, 2, 3, 2, 3, 2, 3, 3, 2, 2, 2, 2, 2, 2, 3, 2, 2, 2, 3, 2, 2, 2, 2, 2, 2, 3, 3, 3, 3, 2, 2, 2, 3, 2, 2, 2, 3, 2, 3, 2, 3, 3, 3, 2, 3, 2, 1, 2, 3, 3, 2, 2, 3, 3, 2, 2, 2, 2, 2, 2, 2, 2, 2, 3, 2, 2, 3, 2, 2, 3, 3, 3, 2, 2, 2, 2, 2, 2, 3, 4, 2, 3, 3, 2, 2, 3, 2, 3, 3, 3, 2, 2, 2, 2, 2, 2, 2, 2, 2, 3, 3, 3, 2, 2, 2, 2, 2, 2, 2, 2, 2, 2, 2, 2, 2, 3, 3, 2, 2, 2, 2, 2, 3, 2, 4, 2, 3, 3, 2, 3, 3, 3, 3, 3, 2, 2, 2, 3, 2, 3, 2, 2, 2, 3, 3, 2, 2, 2, 2, 2, 2, 2, 2, 3, 2, 2, 2, 3, 3, 2, 3, 2, 3, 2, 2, 3, 2, 3, 2, 2, 2, 2, 2, 2, 2, 3, 2, 2, 3, 2, 3, 2, 2, 2, 2, 1, 3, 2, 3, 2, 2, 3, 2, 2, 3, 2, 2, 3, 3, 3, 2, 2, 3, 3, 3, 2, 2, 2, 3, 3, 3, 2, 2, 2, 2, 2, 3, 3, 2, 2, 3, 3, 3, 3, 2, 2, 2, 2, 3, 3, 2, 2, 2, 3, 3, 2, 2, 1, 2, 2, 3, 2, 2, 1, 2, 3, 2, 2, 3, 3, 3, 2, 3, 2, 2, 2, 3, 2, 2, 2, 3, 2, 2, 2, 2, 2, 2, 2, 3, 2, 2, 3, 3, 2, 2, 2, 2, 2, 2, 2, 2, 2, 3, 2, 2, 3, 2, 2, 3, 2, 2, 3, 2, 2, 3, 2, 2, 3, 2, 2, 2, 2, 3, 2, 2, 2, 4, 2, 3, 2, 2, 2, 3, 2, 2, 2, 2, 2, 2, 4, 2, 2, 3, 3, 2, 2, 3, 3, 2, 2, 1, 2, 2, 2, 2, 2, 3, 2, 2, 2, 2, 2, 2, 2, 2, 3, 3, 3, 2, 3, 2, 2, 2, 2, 2, 2, 1, 2, 2, 3, 2, 2, 2, 2, 2, 2, 3, 3, 2, 3, 2, 2, 2, 2, 2, 2, 2, 2, 2, 3, 2, 2, 2, 2, 0, 2, 2, 2, 3, 2, 3, 3, 2, 0, 2, 2, 2, 2, 2, 2, 2, 3, 3, 3, 3, 3, 3, 2, 2, 2, 2, 2, 2, 2, 2, 2, 3, 3, 2, 2, 2, 3, 3, 2, 3, 2, 2, 3, 3, 2, 2, 1, 2, 3, 2, 2, 2, 3, 1, 3, 2, 3, 3, 2, 2, 2, 2, 2, 2, 3, 2, 2, 2, 2, 2, 2, 2, 2, 2, 2, 2, 2, 2, 2, 2, 2, 2, 3, 3, 3, 2, 3, 2, 2, 2, 3, 2, 2, 2, 2, 2, 2, 2, 3, 3, 2, 2, 2, 2, 3, 2, 2, 2, 2, 4, 2, 2, 2, 2, 2, 2, 3, 0, 2, 2, 3, 1, 2, 2, 2, 2, 2, 2, 3, 2, 4, 2, 2, 2, 3, 3, 3, 2, 2, 3, 3, 2, 2, 2, 2, 2, 2, 2, 2, 2, 3, 2, 2, 3, 2, 2, 2, 2, 3, 2, 2, 2, 2, 2, 2, 2, 2, 2, 2, 2, 2, 2, 2, 3, 2, 3, 2, 2, 2, 2, 2, 2, 2, 3, 3, 2, 2, 1, 2, 2, 1, 2, 2, 2, 2, 2, 2, 2, 3, 2, 2, 3, 2, 2, 2, 2, 2, 2, 3, 1, 2, 3, 3, 3, 2, 2, 2, 2, 2, 2, 3, 1, 2, 2, 2, 2, 2, 2, 2, 2, 2, 2, 2, 2, 3, 2, 1, 2, 2, 2, 2, 2, 2, 2, 3, 2, 2, 3, 2, 2, 2, 2, 2, 2, 2, 2, 3, 2, 2, 3, 2, 2, 3, 3, 2, 0, 2, 2, 2, 2, 2, 3, 2, 2, 2, 3, 3, 2, 2, 2, 2, 2, 3, 2, 2, 2, 2, 2, 2, 2, 2, 2, 2, 3, 3, 2, 2, 3, 2, 2, 2, 2, 2, 2, 2, 2, 3, 2, 2, 3, 2, 3, 2, 1, 2, 2, 3, 3, 2, 2, 3, 2, 2, 2, 2, 1, 2, 2, 2, 3, 2, 2, 3, 3, 2, 1, 3, 3, 2, 3, 2, 2, 2, 1, 2, 2, 2, 2, 1, 1, 1, 2, 3, 2, 2, 0, 2, 2, 2, 3, 2, 3, 2, 1, 2, 1, 1, 2, 2, 2, 2, 2, 2, 2, 2, 2, 2, 1, 2, 2, 3, 2, 3, 2, 2, 2, 3, 2, 2, 2, 2, 2, 2, 2, 2, 2, 2, 2, 2, 2, 2, 2, 2, 2, 2, 2, 2, 3, 3, 2, 2, 2, 2, 1, 2, 2, 2, 2, 2, 2, 2, 3, 2, 2, 2, 2, 2, 1, 3, 2, 3, 2, 3, 3, 3, 2, 3, 3, 2, 2, 3, 2, 2, 1, 2, 2, 3, 2, 1, 2, 2, 2, 2, 3, 3, 2, 2, 2, 3, 2, 1, 2, 2, 2, 3, 3, 2, 2, 2, 2, 2, 2, 2, 2, 2, 3, 2, 2, 2, 2, 2, 2, 2, 3, 2, 2, 1, 2, 2, 2, 2, 2, 2, 2, 2, 2, 3, 2, 2, 2, 3, 2, 1, 2, 2, 2, 2, 2, 2, 2, 3, 2, 2, 2, 2, 3, 2, 2, 2, 2, 1, 2, 2, 2, 2, 2, 2, 2, 0, 2, 2, 3, 2, 2, 1, 2, 3, 2, 2, 2, 3, 2, 0, 2, 2, 2, 3, 2, 2, 4, 2, 3, 2, 2, 3, 2, 2, 2, 2, 2, 2, 2, 2, 2, 3, 2, 2, 1, 2, 2, 2, 2, 2, 3, 1, 1, 2, 1, 2, 2, 2, 1, 2, 2, 3, 1, 2, 2, 2, 2, 2, 2, 2, 2, 3, 2, 3, 2, 2, 3, 0, 2, 2, 2, 2, 2, 2, 2, 2, 2, 2, 3, 2, 3, 3, 3, 3, 2, 1, 2, 2, 1, 3, 1, 1, 2, 2, 2, 2, 2, 2, 1, 2, 2, 1, 2, 2, 1, 2, 2, 2, 2, 2, 3, 2, 3, 2, 3, 2, 2, 2, 2, 1, 3, 2, 1, 2, 1, 2, 2, 1, 3, 2, 2, 2, 1, 2, 2, 2, 2, 2, 1, 1, 3, 2, 2, 2, 3, 1, 2, 3, 2, 3, 2, 2, 2, 1, 3, 2, 1, 3, 2, 2, 2, 3, 2, 1, 2, 2, 2, 3, 2, 3, 2, 3, 2, 2, 3, 2, 1, 2, 2, 1, 4, 2, 1, 2, 2, 2, 1, 2, 1, 1, 3, 1, 2, 2, 2, 2, 2, 2, 1, 2, 2, 2, 2, 0, 1, 1, 2, 2, 2, 0, 3, 1, 2, 3, 3, 2, 2, 2, 3, 2, 2, 3, 2, 3, 2, 2, 2, 2, 2, 2, 2, 2, 2, 2, 2, 2, 2, 3, 3, 2, 2, 2, 2, 2, 3, 3, 3, 2, 1, 2, 2, 2, 2, 2, 1, 2, 2, 2, 2, 3, 2, 2, 2, 2, 2, 1, 1, 2, 2, 2, 1, 2, 2, 2, 2, 2, 2, 2, 2, 1, 3, 2, 2, 2, 2, 3, 2, 2, 3, 4, 3, 2, 2, 2, 1, 1, 2, 2, 2, 3, 2, 1, 1, 3, 2, 2, 2, 1, 2, 2, 2, 2, 2, 1, 2, 2, 3, 2, 2, 1, 2, 1, 2, 3, 2, 1, 3, 1, 3, 3, 2, 2, 3, 1, 2, 1, 2, 1, 2, 2, 2, 2, 2, 2, 2, 2, 2, 2, 2, 0, 2, 2, 2, 3, 2, 2, 1, 3, 2, 3, 3, 1, 3, 2, 2, 2, 2, 2, 2, 2, 3, 2, 2, 2, 3, 2, 3, 2, 2, 2, 1, 2, 3, 2, 3, 2, 2, 2, 2, 4, 2, 2, 2, 1, 2, 3, 2, 3, 3, 1, 1, 3, 1, 2, 2, 2, 3, 2, 2, 2, 2, 2, 1, 2, 2, 3, 3, 2, 2, 2, 2, 3, 1, 2, 2, 2, 2, 1, 4, 1, 2, 2, 2, 0, 2, 1, 2, 1, 1, 2, 3, 2, 3, 2, 3, 2, 2, 2, 2, 2, 2, 1, 2, 2, 2, 2, 2, 2, 3, 2, 2, 2, 2, 2, 2, 2, 3, 2, 2, 3, 2, 2, 2, 2, 2, 3, 1, 2, 2, 2, 2, 2, 1, 2, 2, 2, 1, 3, 1, 2, 2, 2, 2, 2, 2, 2, 2, 2, 2, 2, 2, 1, 3, 2, 2, 1, 2, 3, 2, 2, 1, 2, 2, 2, 2, 2, 0, 2, 3, 0, 3, 2, 2, 1, 2, 3, 2, 3, 2, 2, 4, 2, 2, 2, 2, 2, 2, 2, 2, 2, 2, 3, 2, 2, 2, 2, 3, 2, 3, 2, 2, 2, 2, 2, 1, 1, 2, 2, 2, 2, 2, 2, 2, 2, 1, 2, 2, 2, 3, 1, 2, 2, 2, 2, 2, 2, 2, 2, 2, 1, 2, 1, 2, 2, 2, 2, 2, 2, 3, 2, 2, 2, 2, 2, 1, 2, 2, 3, 2, 2, 2, 2, 1, 1, 2, 2, 2, 1, 2, 1, 1, 1, 2, 2, 1, 2, 2, 1, 1, 2, 2, 2, 2, 1, 2, 2, 2, 2, 1, 2, 2, 2, 2, 2, 2, 2, 2, 1, 2, 2, 2, 2, 2, 2, 2, 2, 2, 3, 2, 2, 2, 2, 3, 2, 2, 2, 2, 2, 1, 2, 1, 3, 2, 2, 2, 2, 3, 2, 2, 3, 2, 1, 2, 2, 2, 1, 2, 3, 2, 2, 2, 2, 2, 1, 3, 2, 3, 2, 3, 2, 2, 2, 2, 2, 2, 2, 1, 2, 0, 2, 2, 2, 2, 2, 2, 1, 1, 3, 2, 3, 2, 2, 1, 2, 3, 2, 2, 1, 3, 1, 2, 1, 1, 1, 2, 2, 3, 2, 3, 1, 2, 2, 2, 2, 2, 2, 2, 2, 2, 2, 2, 2, 2, 3, 1, 2, 2, 2, 2, 0, 1, 2, 2, 1, 3, 2, 2, 2, 2, 2, 2, 2, 3, 2, 3, 2, 2, 2, 2, 2, 2, 2, 2, 2, 2, 2, 3, 3, 2, 2, 3, 2, 1, 2, 1, 2, 2, 2, 2, 2, 1, 2, 3, 3, 3, 1, 2, 2, 2, 2, 2, 2, 3, 2, 1, 2, 3, 3, 1, 2, 2, 1, 2, 1, 1, 2, 2, 2, 2, 3, 2, 3, 2, 3, 2, 2, 2, 2, 2, 1, 3, 2, 1, 2, 2, 2, 3, 3, 2, 2, 3, 3, 2, 2, 2, 2, 2, 1, 3, 3, 2, 3, 1, 2, 3, 2, 2, 1, 3, 2, 2, 2, 2, 2, 2, 2, 1, 2, 1, 1, 2, 2, 2, 1, 2, 2, 2, 3, 2, 3, 2, 2, 3, 2, 2, 1, 2, 2, 2, 2, 2, 1, 2, 2, 3, 0, 2, 1, 1, 1, 3, 1, 1, 2, 2, 2, 1, 3, 1, 2, 3, 2, 2, 2, 2, 2, 1, 2, 2, 2, 1, 0, 2, 3, 2, 2, 2, 1, 3, 2, 2, 3, 2, 2, 2, 2, 2, 2, 2, 3, 2, 2, 2, 2, 3, 1, 2, 1, 2, 2, 2, 2, 3, 2, 1, 2, 3, 2, 2, 3, 2, 2, 2, 2, 2, 2, 2, 1, 1, 2, 1, 2, 2, 1, 3, 2, 1, 2, 3, 2, 2, 3, 3, 2, 2, 2, 3, 2, 2, 1, 2, 2, 2, 2, 2, 2, 2, 2, 3, 2, 3, 2, 2, 2, 3, 2, 2, 3, 2, 2, 2, 2, 1, 2, 2, 2, 2, 2, 1, 2, 2, 2, 3, 2, 2, 2, 2, 3, 1, 3, 2, 2, 2, 2, 2, 2, 2, 2, 3, 2, 2, 2, 2, 4, 1, 2, 2, 2, 1, 1, 2, 2, 2, 2, 2, 2, 3, 2, 2, 2, 3, 2, 0, 2, 2, 2, 1, 2, 2, 2, 1, 2, 2, 2, 2, 3, 2, 2, 3, 2, 1, 2, 2, 2, 2, 2, 3, 2, 3, 2, 0, 2, 3, 2, 2, 2, 2, 2, 2, 2, 2, 2, 2, 1, 2, 2, 2, 2, 2, 1, 2, 1, 2, 2, 0, 2, 2, 2, 2, 2, 2, 2, 2, 2, 0, 2, 1, 2, 1, 3, 2, 1, 1, 1, 0, 2, 2, 2, 2, 2, 3, 1, 2, 2, 2, 2, 2, 2, 2, 2, 3, 1, 2, 2, 2, 2, 2, 2, 2, 2, 2, 1, 2, 1, 2, 2, 2, 2, 2, 3, 3, 2, 2, 2, 2, 2, 0, 2, 2, 2, 2, 3, 1, 2, 1, 3, 2, 1, 3, 1, 1, 2, 3, 2, 2, 2, 1, 2, 1, 2, 1, 2, 1, 3, 2, 1, 2, 3, 1, 2, 2, 2, 3, 2, 2, 2, 2, 2, 1, 2, 1, 2, 2, 2, 1, 2, 2, 2, 3, 2, 2, 2, 2, 2, 2, 1, 2, 2, 2, 2, 3, 2, 2, 2, 2, 1, 2, 2, 2, 2, 2, 2, 3, 2, 1, 2, 2, 2, 2, 1, 2, 3, 3, 2, 3, 2, 2, 2, 3, 3, 2, 2, 2, 2, 2, 2, 2, 1, 2, 1, 2, 2]\n"
     ]
    }
   ],
   "source": [
    "### Observe movies with less than 80 critic reviews \n",
    "filtered_values = X[X['num_critic_for_reviews'] < 80]\n",
    "\n",
    "# print(filtered_values)\n",
    "filtered_indices = filtered_values.index\n",
    "# print(filtered_indices)\n",
    "# print(y[filtered_indices])\n",
    "\n",
    "\n",
    "\n",
    "# Observe Gross earnings \n",
    "# Sort DataFrame X by 'gross' earnings in descending order\n",
    "sorted_X = X.sort_values(by='gross', ascending=False)\n",
    "\n",
    "# Print the sorted DataFrame\n",
    "# print(sorted_X.head())\n",
    "\n",
    "\n",
    "\n",
    "### Look at best movies\n",
    "# Filter movies with a rating of 4 from the target variable y\n",
    "best_movies = X[y == 4]\n",
    "\n",
    "# Print the filtered movies\n",
    "# print(best_movies)\n",
    "# print(len(best_movies))\n",
    "\n",
    "\n",
    "### Look at num-voted users\n",
    "###### -> Empirically: Larger num_voted_users -> Higher rating\n",
    "# Sort DataFrame X by 'num_voted_users' in descending order\n",
    "sorted_X_voted = X.sort_values(by='num_voted_users', ascending=False)\n",
    "\n",
    "# Print sorted DataFrame X\n",
    "print(\"Sorted X by num_voted_users:\")\n",
    "# print(sorted_X_voted)\n",
    "\n",
    "# Print corresponding y values for the sorted DataFrame\n",
    "print(\"Corresponding y values:\")\n",
    "print(list(y.loc[sorted_X_voted.index].values))\n"
   ]
  },
  {
   "cell_type": "markdown",
   "metadata": {},
   "source": [
    "# Feature Engineering"
   ]
  },
  {
   "cell_type": "code",
   "execution_count": 40,
   "metadata": {},
   "outputs": [],
   "source": [
    "# Combined measure for popularity and financial success of movie \n",
    "# X['interaction_feature'] = X['num_voted_users'] * X['gross']    \n",
    "\n",
    "# Convert other data into numerical data\n",
    "# print(X)"
   ]
  },
  {
   "cell_type": "markdown",
   "metadata": {},
   "source": [
    "# Train-Test Split"
   ]
  },
  {
   "cell_type": "code",
   "execution_count": 41,
   "metadata": {},
   "outputs": [],
   "source": [
    "# Split the training data into train and validation sets\n",
    "X_train, X_val, y_train, y_val = train_test_split(X, y, test_size=0.1, random_state=42)"
   ]
  },
  {
   "cell_type": "markdown",
   "metadata": {},
   "source": [
    "# Understanding the Data"
   ]
  },
  {
   "cell_type": "markdown",
   "metadata": {},
   "source": [
    "## Features"
   ]
  },
  {
   "cell_type": "code",
   "execution_count": 59,
   "metadata": {},
   "outputs": [
    {
     "name": "stdout",
     "output_type": "stream",
     "text": [
      "26\n",
      "Index(['id', 'director_name', 'num_critic_for_reviews', 'duration',\n",
      "       'director_facebook_likes', 'actor_3_facebook_likes', 'actor_2_name',\n",
      "       'actor_1_facebook_likes', 'gross', 'genres', 'actor_1_name',\n",
      "       'movie_title', 'num_voted_users', 'cast_total_facebook_likes',\n",
      "       'actor_3_name', 'facenumber_in_poster', 'plot_keywords',\n",
      "       'num_user_for_reviews', 'language', 'country', 'content_rating',\n",
      "       'title_year', 'actor_2_facebook_likes', 'movie_facebook_likes',\n",
      "       'title_embedding', 'average_degree_centrality'],\n",
      "      dtype='object')\n"
     ]
    }
   ],
   "source": [
    "# number of features\n",
    "print(len(X.columns))\n",
    "print(X.columns)"
   ]
  },
  {
   "cell_type": "markdown",
   "metadata": {},
   "source": [
    "## Distribution of Movie Ratings\n"
   ]
  },
  {
   "cell_type": "code",
   "execution_count": 56,
   "metadata": {},
   "outputs": [
    {
     "data": {
      "image/png": "[encoded data removed]",
      "text/plain": [
       "<Figure size 640x480 with 1 Axes>"
      ]
     },
     "metadata": {},
     "output_type": "display_data"
    }
   ],
   "source": [
    "# Plot bar plot of y\n",
    "counts = np.bincount(y)\n",
    "plt.bar(range(len(counts)), counts)\n",
    "plt.xlabel('Labels')\n",
    "plt.ylabel('Frequency')\n",
    "plt.title('Distribution of Labels in y')\n",
    "\n",
    "# Annotate each bar with its count\n",
    "for i, count in enumerate(counts):\n",
    "    plt.text(i, count, str(count), ha='center', va='bottom')\n",
    "\n",
    "plt.show()\n"
   ]
  },
  {
   "cell_type": "markdown",
   "metadata": {},
   "source": [
    "## K-NN "
   ]
  },
  {
   "cell_type": "code",
   "execution_count": 50,
   "metadata": {},
   "outputs": [
    {
     "name": "stdout",
     "output_type": "stream",
     "text": [
      "Best Parameters: {'feature_selection__k': 15, 'knn__metric': 'euclidean', 'knn__n_neighbors': 11, 'knn__weights': 'distance', 'preprocessor__num__scaler': MinMaxScaler()}\n",
      "Best Accuracy: 0.6626014924351338\n",
      "Validation Accuracy with Best Model: 0.6943521594684385\n"
     ]
    }
   ],
   "source": [
    "# Feature selection \n",
    "feature_selection = SelectKBest(score_func=f_classif)\n",
    "\n",
    "# Define the pipeline with preprocessing, feature selection, and KNN classifier\n",
    "pipeline = Pipeline([\n",
    "    ('preprocessor', preprocessor),\n",
    "    ('feature_selection', feature_selection),\n",
    "    ('knn', KNeighborsClassifier())\n",
    "])\n",
    "\n",
    "# Define parameter grid\n",
    "param_grid = {\n",
    "    'feature_selection__k': [10, 15, 20],  \n",
    "    'preprocessor__num__scaler': [StandardScaler(), MinMaxScaler()],  \n",
    "    'knn__n_neighbors': [5, 7, 9, 11],  \n",
    "    'knn__metric': ['euclidean', 'manhattan'],\n",
    "    'knn__weights': ['uniform', 'distance'],\n",
    "}\n",
    "\n",
    "# Perform grid search with cross-validation\n",
    "grid_search = GridSearchCV(pipeline, param_grid, cv=5, scoring='accuracy')\n",
    "grid_search.fit(X_train, y_train)\n",
    "\n",
    "# Get the best parameters and best score\n",
    "best_params = grid_search.best_params_\n",
    "best_score = grid_search.best_score_\n",
    "\n",
    "print(\"Best Parameters:\", best_params)\n",
    "print(\"Best Accuracy:\", best_score)\n",
    "\n",
    "# Evaluate on the validation set using the best model\n",
    "knn_best_model = grid_search.best_estimator_\n",
    "val_accuracy = accuracy_score(y_val, knn_best_model.predict(X_val))\n",
    "print(\"Validation Accuracy with Best Model:\", val_accuracy)\n"
   ]
  },
  {
   "cell_type": "markdown",
   "metadata": {},
   "source": [
    "### Predict with KNN"
   ]
  },
  {
   "cell_type": "code",
   "execution_count": 51,
   "metadata": {},
   "outputs": [],
   "source": [
    "# Make predictions on X_test with KNN\n",
    "predictions = knn_best_model.predict(X_test)\n",
    "\n",
    "# Create a DataFrame to store the predictions\n",
    "prediction_df = pd.DataFrame({'id': range(1, len(predictions) + 1), 'imdb_score_binned': predictions})\n",
    "\n",
    "# Write the predictions to a CSV file\n",
    "prediction_df.to_csv('knn_predictions.csv', index=False)"
   ]
  },
  {
   "cell_type": "markdown",
   "metadata": {},
   "source": [
    "## Decision Tree / Random Forest\n"
   ]
  },
  {
   "cell_type": "code",
   "execution_count": 73,
   "metadata": {},
   "outputs": [
    {
     "name": "stdout",
     "output_type": "stream",
     "text": [
      "Fitting 5 folds for each of 18 candidates, totalling 90 fits\n",
      "[CV] END classifier__min_samples_split=2, classifier__n_estimators=50, feature_selector__k=10; total time=   0.9s\n",
      "[CV] END classifier__min_samples_split=2, classifier__n_estimators=50, feature_selector__k=10; total time=   0.8s\n",
      "[CV] END classifier__min_samples_split=2, classifier__n_estimators=50, feature_selector__k=10; total time=   0.8s\n",
      "[CV] END classifier__min_samples_split=2, classifier__n_estimators=50, feature_selector__k=10; total time=   0.8s\n",
      "[CV] END classifier__min_samples_split=2, classifier__n_estimators=50, feature_selector__k=10; total time=   0.8s\n",
      "[CV] END classifier__min_samples_split=2, classifier__n_estimators=50, feature_selector__k=15; total time=   0.8s\n",
      "[CV] END classifier__min_samples_split=2, classifier__n_estimators=50, feature_selector__k=15; total time=   0.8s\n",
      "[CV] END classifier__min_samples_split=2, classifier__n_estimators=50, feature_selector__k=15; total time=   1.1s\n",
      "[CV] END classifier__min_samples_split=2, classifier__n_estimators=50, feature_selector__k=15; total time=   0.8s\n",
      "[CV] END classifier__min_samples_split=2, classifier__n_estimators=50, feature_selector__k=15; total time=   0.7s\n",
      "[CV] END classifier__min_samples_split=2, classifier__n_estimators=100, feature_selector__k=10; total time=   1.4s\n",
      "[CV] END classifier__min_samples_split=2, classifier__n_estimators=100, feature_selector__k=10; total time=   1.2s\n",
      "[CV] END classifier__min_samples_split=2, classifier__n_estimators=100, feature_selector__k=10; total time=   1.2s\n",
      "[CV] END classifier__min_samples_split=2, classifier__n_estimators=100, feature_selector__k=10; total time=   1.2s\n",
      "[CV] END classifier__min_samples_split=2, classifier__n_estimators=100, feature_selector__k=10; total time=   1.3s\n",
      "[CV] END classifier__min_samples_split=2, classifier__n_estimators=100, feature_selector__k=15; total time=   1.4s\n",
      "[CV] END classifier__min_samples_split=2, classifier__n_estimators=100, feature_selector__k=15; total time=   1.2s\n",
      "[CV] END classifier__min_samples_split=2, classifier__n_estimators=100, feature_selector__k=15; total time=   1.3s\n",
      "[CV] END classifier__min_samples_split=2, classifier__n_estimators=100, feature_selector__k=15; total time=   1.2s\n",
      "[CV] END classifier__min_samples_split=2, classifier__n_estimators=100, feature_selector__k=15; total time=   1.2s\n",
      "[CV] END classifier__min_samples_split=2, classifier__n_estimators=150, feature_selector__k=10; total time=   2.0s\n",
      "[CV] END classifier__min_samples_split=2, classifier__n_estimators=150, feature_selector__k=10; total time=   1.9s\n",
      "[CV] END classifier__min_samples_split=2, classifier__n_estimators=150, feature_selector__k=10; total time=   1.7s\n",
      "[CV] END classifier__min_samples_split=2, classifier__n_estimators=150, feature_selector__k=10; total time=   1.7s\n",
      "[CV] END classifier__min_samples_split=2, classifier__n_estimators=150, feature_selector__k=10; total time=   1.8s\n",
      "[CV] END classifier__min_samples_split=2, classifier__n_estimators=150, feature_selector__k=15; total time=   1.6s\n",
      "[CV] END classifier__min_samples_split=2, classifier__n_estimators=150, feature_selector__k=15; total time=   1.6s\n",
      "[CV] END classifier__min_samples_split=2, classifier__n_estimators=150, feature_selector__k=15; total time=   1.6s\n",
      "[CV] END classifier__min_samples_split=2, classifier__n_estimators=150, feature_selector__k=15; total time=   1.6s\n",
      "[CV] END classifier__min_samples_split=2, classifier__n_estimators=150, feature_selector__k=15; total time=   1.6s\n",
      "[CV] END classifier__min_samples_split=5, classifier__n_estimators=50, feature_selector__k=10; total time=   0.8s\n",
      "[CV] END classifier__min_samples_split=5, classifier__n_estimators=50, feature_selector__k=10; total time=   0.8s\n",
      "[CV] END classifier__min_samples_split=5, classifier__n_estimators=50, feature_selector__k=10; total time=   0.8s\n",
      "[CV] END classifier__min_samples_split=5, classifier__n_estimators=50, feature_selector__k=10; total time=   0.9s\n",
      "[CV] END classifier__min_samples_split=5, classifier__n_estimators=50, feature_selector__k=10; total time=   1.1s\n",
      "[CV] END classifier__min_samples_split=5, classifier__n_estimators=50, feature_selector__k=15; total time=   0.9s\n",
      "[CV] END classifier__min_samples_split=5, classifier__n_estimators=50, feature_selector__k=15; total time=   0.9s\n",
      "[CV] END classifier__min_samples_split=5, classifier__n_estimators=50, feature_selector__k=15; total time=   0.9s\n",
      "[CV] END classifier__min_samples_split=5, classifier__n_estimators=50, feature_selector__k=15; total time=   0.7s\n",
      "[CV] END classifier__min_samples_split=5, classifier__n_estimators=50, feature_selector__k=15; total time=   0.7s\n",
      "[CV] END classifier__min_samples_split=5, classifier__n_estimators=100, feature_selector__k=10; total time=   1.3s\n",
      "[CV] END classifier__min_samples_split=5, classifier__n_estimators=100, feature_selector__k=10; total time=   1.3s\n",
      "[CV] END classifier__min_samples_split=5, classifier__n_estimators=100, feature_selector__k=10; total time=   1.3s\n",
      "[CV] END classifier__min_samples_split=5, classifier__n_estimators=100, feature_selector__k=10; total time=   1.2s\n",
      "[CV] END classifier__min_samples_split=5, classifier__n_estimators=100, feature_selector__k=10; total time=   1.1s\n",
      "[CV] END classifier__min_samples_split=5, classifier__n_estimators=100, feature_selector__k=15; total time=   1.2s\n",
      "[CV] END classifier__min_samples_split=5, classifier__n_estimators=100, feature_selector__k=15; total time=   1.3s\n",
      "[CV] END classifier__min_samples_split=5, classifier__n_estimators=100, feature_selector__k=15; total time=   1.1s\n",
      "[CV] END classifier__min_samples_split=5, classifier__n_estimators=100, feature_selector__k=15; total time=   1.1s\n",
      "[CV] END classifier__min_samples_split=5, classifier__n_estimators=100, feature_selector__k=15; total time=   1.2s\n",
      "[CV] END classifier__min_samples_split=5, classifier__n_estimators=150, feature_selector__k=10; total time=   2.2s\n",
      "[CV] END classifier__min_samples_split=5, classifier__n_estimators=150, feature_selector__k=10; total time=   1.7s\n",
      "[CV] END classifier__min_samples_split=5, classifier__n_estimators=150, feature_selector__k=10; total time=   1.6s\n",
      "[CV] END classifier__min_samples_split=5, classifier__n_estimators=150, feature_selector__k=10; total time=   2.0s\n",
      "[CV] END classifier__min_samples_split=5, classifier__n_estimators=150, feature_selector__k=10; total time=   2.0s\n",
      "[CV] END classifier__min_samples_split=5, classifier__n_estimators=150, feature_selector__k=15; total time=   1.8s\n",
      "[CV] END classifier__min_samples_split=5, classifier__n_estimators=150, feature_selector__k=15; total time=   1.5s\n",
      "[CV] END classifier__min_samples_split=5, classifier__n_estimators=150, feature_selector__k=15; total time=   1.4s\n",
      "[CV] END classifier__min_samples_split=5, classifier__n_estimators=150, feature_selector__k=15; total time=   1.6s\n",
      "[CV] END classifier__min_samples_split=5, classifier__n_estimators=150, feature_selector__k=15; total time=   1.4s\n",
      "[CV] END classifier__min_samples_split=10, classifier__n_estimators=50, feature_selector__k=10; total time=   0.8s\n",
      "[CV] END classifier__min_samples_split=10, classifier__n_estimators=50, feature_selector__k=10; total time=   0.8s\n",
      "[CV] END classifier__min_samples_split=10, classifier__n_estimators=50, feature_selector__k=10; total time=   0.7s\n",
      "[CV] END classifier__min_samples_split=10, classifier__n_estimators=50, feature_selector__k=10; total time=   0.7s\n",
      "[CV] END classifier__min_samples_split=10, classifier__n_estimators=50, feature_selector__k=10; total time=   0.8s\n",
      "[CV] END classifier__min_samples_split=10, classifier__n_estimators=50, feature_selector__k=15; total time=   0.7s\n",
      "[CV] END classifier__min_samples_split=10, classifier__n_estimators=50, feature_selector__k=15; total time=   0.7s\n",
      "[CV] END classifier__min_samples_split=10, classifier__n_estimators=50, feature_selector__k=15; total time=   0.7s\n",
      "[CV] END classifier__min_samples_split=10, classifier__n_estimators=50, feature_selector__k=15; total time=   0.6s\n",
      "[CV] END classifier__min_samples_split=10, classifier__n_estimators=50, feature_selector__k=15; total time=   0.6s\n",
      "[CV] END classifier__min_samples_split=10, classifier__n_estimators=100, feature_selector__k=10; total time=   1.1s\n",
      "[CV] END classifier__min_samples_split=10, classifier__n_estimators=100, feature_selector__k=10; total time=   1.2s\n",
      "[CV] END classifier__min_samples_split=10, classifier__n_estimators=100, feature_selector__k=10; total time=   1.1s\n",
      "[CV] END classifier__min_samples_split=10, classifier__n_estimators=100, feature_selector__k=10; total time=   1.1s\n",
      "[CV] END classifier__min_samples_split=10, classifier__n_estimators=100, feature_selector__k=10; total time=   1.1s\n",
      "[CV] END classifier__min_samples_split=10, classifier__n_estimators=100, feature_selector__k=15; total time=   1.1s\n",
      "[CV] END classifier__min_samples_split=10, classifier__n_estimators=100, feature_selector__k=15; total time=   1.1s\n",
      "[CV] END classifier__min_samples_split=10, classifier__n_estimators=100, feature_selector__k=15; total time=   1.1s\n",
      "[CV] END classifier__min_samples_split=10, classifier__n_estimators=100, feature_selector__k=15; total time=   1.1s\n",
      "[CV] END classifier__min_samples_split=10, classifier__n_estimators=100, feature_selector__k=15; total time=   1.0s\n",
      "[CV] END classifier__min_samples_split=10, classifier__n_estimators=150, feature_selector__k=10; total time=   1.5s\n",
      "[CV] END classifier__min_samples_split=10, classifier__n_estimators=150, feature_selector__k=10; total time=   1.5s\n",
      "[CV] END classifier__min_samples_split=10, classifier__n_estimators=150, feature_selector__k=10; total time=   1.6s\n",
      "[CV] END classifier__min_samples_split=10, classifier__n_estimators=150, feature_selector__k=10; total time=   1.6s\n",
      "[CV] END classifier__min_samples_split=10, classifier__n_estimators=150, feature_selector__k=10; total time=   1.5s\n",
      "[CV] END classifier__min_samples_split=10, classifier__n_estimators=150, feature_selector__k=15; total time=   1.6s\n",
      "[CV] END classifier__min_samples_split=10, classifier__n_estimators=150, feature_selector__k=15; total time=   1.4s\n",
      "[CV] END classifier__min_samples_split=10, classifier__n_estimators=150, feature_selector__k=15; total time=   1.4s\n",
      "[CV] END classifier__min_samples_split=10, classifier__n_estimators=150, feature_selector__k=15; total time=   1.3s\n",
      "[CV] END classifier__min_samples_split=10, classifier__n_estimators=150, feature_selector__k=15; total time=   1.3s\n",
      "Best Parameters: {'classifier__min_samples_split': 5, 'classifier__n_estimators': 150, 'feature_selector__k': 10}\n",
      "Best Accuracy: 0.6833230642842473\n",
      "Validation Accuracy with Best Model: 0.717607973421927\n"
     ]
    }
   ],
   "source": [
    "# Define preprocessing steps\n",
    "imputer = SimpleImputer(strategy='mean') \n",
    "feature_selector = SelectKBest(score_func=f_classif)  \n",
    "classifier = RandomForestClassifier(random_state=42)\n",
    "\n",
    "# Define the pipeline\n",
    "pipeline = Pipeline([\n",
    "    ('preprocessor', preprocessor),\n",
    "    ('imputer', imputer),\n",
    "    ('feature_selector', feature_selector),\n",
    "    ('classifier', classifier)\n",
    "])\n",
    "\n",
    "# Define parameter grid\n",
    "param_grid = {\n",
    "    'feature_selector__k': [10, 15],\n",
    "    'classifier__n_estimators': [50, 100, 150], \n",
    "    # 'classifier__max_depth': [None, 10, 20],\n",
    "    'classifier__min_samples_split': [2, 5, 10],\n",
    "    # 'classifier__min_samples_leaf': [1, 2, 4],\n",
    "    # 'classifier__max_features': ['auto', 'sqrt']\n",
    "}\n",
    "\n",
    "# Perform grid search with cross-validation\n",
    "grid_search = GridSearchCV(pipeline, param_grid, cv=5, scoring='accuracy', verbose=0)\n",
    "grid_search.fit(X_train, y_train)\n",
    "\n",
    "# Get the best parameters and best score\n",
    "best_params = grid_search.best_params_\n",
    "best_score = grid_search.best_score_\n",
    "\n",
    "print(\"Best Parameters:\", best_params)\n",
    "print(\"Best Accuracy:\", best_score)\n",
    "\n",
    "# Evaluate on the validation set using the best model\n",
    "rf_best_model = grid_search.best_estimator_\n",
    "val_accuracy = rf_best_model.score(X_val, y_val)\n",
    "print(\"Validation Accuracy with Best Model:\", val_accuracy)"
   ]
  },
  {
   "cell_type": "markdown",
   "metadata": {},
   "source": [
    "## Predict with Random Forest"
   ]
  },
  {
   "cell_type": "code",
   "execution_count": null,
   "metadata": {},
   "outputs": [],
   "source": [
    "# Make predictions on X_test with Random Forest\n",
    "predictions = rf_best_model.predict(X_test)\n",
    "\n",
    "# Create a DataFrame to store the predictions\n",
    "prediction_df = pd.DataFrame({'id': range(1, len(predictions) + 1), 'imdb_score_binned': predictions})\n",
    "\n",
    "# Write the predictions to a CSV file\n",
    "prediction_df.to_csv('rf_predictions.csv', index=False)"
   ]
  },
  {
   "cell_type": "markdown",
   "metadata": {},
   "source": [
    "## SVM\n"
   ]
  },
  {
   "cell_type": "code",
   "execution_count": 49,
   "metadata": {},
   "outputs": [
    {
     "name": "stdout",
     "output_type": "stream",
     "text": [
      "Best Parameters: {'classifier__C': 5, 'classifier__gamma': 'scale', 'feature_selector__k': 10, 'imputer__strategy': 'mean', 'preprocessor__num__scaler': StandardScaler()}\n",
      "Best Accuracy: 0.6803573629081947\n",
      "Validation Accuracy with Best Model: 0.7308970099667774\n"
     ]
    }
   ],
   "source": [
    "# Define feature selection, imputation, and SVM classifier\n",
    "imputer = SimpleImputer()\n",
    "feature_selector = SelectKBest(score_func=f_classif)\n",
    "classifier = SVC()\n",
    "\n",
    "# Define the pipeline including feature engineering\n",
    "pipeline = Pipeline([\n",
    "    ('preprocessor', preprocessor),\n",
    "    ('imputer', imputer),\n",
    "    ('feature_selector', feature_selector),\n",
    "    ('classifier', classifier)\n",
    "])\n",
    "\n",
    "# Define parameter grid\n",
    "param_grid = {\n",
    "    'imputer__strategy': ['mean', 'median'],\n",
    "    'preprocessor__num__scaler': [StandardScaler(), MinMaxScaler()],  \n",
    "    'feature_selector__k': [10, 15, 20],\n",
    "    'classifier__C': [0.2, 1, 5],\n",
    "    'classifier__gamma': ['scale', 'auto']\n",
    "}\n",
    "\n",
    "# Perform grid search with cross-validation\n",
    "grid_search = GridSearchCV(pipeline, param_grid, cv=5, scoring='accuracy', verbose=0)   # Verbose shows comments during search\n",
    "grid_search.fit(X_train, y_train)\n",
    "\n",
    "# Get the best parameters and best score\n",
    "best_params = grid_search.best_params_\n",
    "best_score = grid_search.best_score_\n",
    "\n",
    "print(\"Best Parameters:\", best_params)\n",
    "print(\"Best Accuracy:\", best_score)\n",
    "\n",
    "# Evaluate on the validation set using the best model\n",
    "svm_best_model = grid_search.best_estimator_\n",
    "val_accuracy = svm_best_model.score(X_val, y_val)\n",
    "print(\"Validation Accuracy with Best Model:\", val_accuracy)\n"
   ]
  },
  {
   "cell_type": "markdown",
   "metadata": {},
   "source": [
    "### Predict with SVM"
   ]
  },
  {
   "cell_type": "code",
   "execution_count": null,
   "metadata": {},
   "outputs": [],
   "source": [
    "# Make predictions on X_test with SVM\n",
    "predictions = svm_best_model.predict(X_test)\n",
    "\n",
    "# Create a DataFrame to store the predictions\n",
    "prediction_df = pd.DataFrame({'id': range(1, len(predictions) + 1), 'imdb_score_binned': predictions})\n",
    "\n",
    "# Write the predictions to a CSV file\n",
    "prediction_df.to_csv('svm_predictions.csv', index=False)"
   ]
  },
  {
   "cell_type": "markdown",
   "metadata": {},
   "source": [
    "## Permutation Feature Importance"
   ]
  },
  {
   "cell_type": "code",
   "execution_count": null,
   "metadata": {},
   "outputs": [
    {
     "name": "stdout",
     "output_type": "stream",
     "text": [
      "id: 0.0\n",
      "director_name: 0.0\n",
      "num_critic_for_reviews: 0.057475083056478346\n",
      "duration: 0.009634551495016564\n",
      "director_facebook_likes: 0.0\n",
      "actor_3_facebook_likes: 0.0\n",
      "actor_2_name: 0.0\n",
      "actor_1_facebook_likes: 0.0\n",
      "gross: 0.05614617940199329\n",
      "genres: 0.0\n",
      "actor_1_name: 0.0\n",
      "movie_title: 0.0\n",
      "num_voted_users: 0.08272425249169431\n",
      "cast_total_facebook_likes: 0.0\n",
      "actor_3_name: 0.0\n",
      "facenumber_in_poster: 0.0\n",
      "plot_keywords: 0.0\n",
      "num_user_for_reviews: 0.01295681063122921\n",
      "language: 0.0\n",
      "country: 0.0\n",
      "content_rating: 0.0\n",
      "title_year: 0.0\n",
      "actor_2_facebook_likes: 0.0\n",
      "movie_facebook_likes: 0.032890365448504946\n",
      "title_embedding: 0.0\n",
      "average_degree_centrality: 0.0\n",
      "interaction_feature: 0.0\n"
     ]
    },
    {
     "data": {
      "image/png": "[encoded data removed]",
      "text/plain": [
       "<Figure size 640x480 with 1 Axes>"
      ]
     },
     "metadata": {},
     "output_type": "display_data"
    }
   ],
   "source": [
    "from sklearn.inspection import permutation_importance\n",
    "\n",
    "# Fit your SVM model (best_model) on the training data\n",
    "svm_best_model.fit(X_train, y_train)\n",
    "\n",
    "# Compute baseline performance on the validation set\n",
    "baseline_score = svm_best_model.score(X_val, y_val)\n",
    "\n",
    "# Compute permutation feature importance\n",
    "perm_importance = permutation_importance(svm_best_model, X_val, y_val, n_repeats=10, random_state=42)\n",
    "\n",
    "# Get feature importances and their names\n",
    "feature_importances = perm_importance.importances_mean\n",
    "feature_names = X_val.columns\n",
    "\n",
    "# Print feature importance scores\n",
    "for feature_name, importance in zip(feature_names, feature_importances):\n",
    "    print(f\"{feature_name}: {importance}\")\n",
    "\n",
    "# Plot feature importance\n",
    "plt.barh(feature_names, feature_importances)\n",
    "plt.xlabel('Permutation Importance')\n",
    "plt.show()\n"
   ]
  },
  {
   "cell_type": "markdown",
   "metadata": {},
   "source": [
    "### Compare csv's for different predictions\n"
   ]
  },
  {
   "cell_type": "code",
   "execution_count": null,
   "metadata": {},
   "outputs": [
    {
     "name": "stdout",
     "output_type": "stream",
     "text": [
      "Differences between csv1 with csv2\n",
      "    imdb_score_binned      \n",
      "                 self other\n",
      "6                 4.0   3.0\n",
      "7                 3.0   2.0\n",
      "9                 2.0   3.0\n",
      "18                3.0   2.0\n",
      "30                2.0   4.0\n",
      "..                ...   ...\n",
      "722               3.0   2.0\n",
      "735               3.0   4.0\n",
      "740               1.0   2.0\n",
      "747               2.0   3.0\n",
      "748               3.0   2.0\n",
      "\n",
      "[110 rows x 2 columns]\n"
     ]
    }
   ],
   "source": [
    "# Read the first CSV file\n",
    "df1 = pd.read_csv('knn_predictions.csv')\n",
    "\n",
    "# Read the second CSV file\n",
    "df2 = pd.read_csv('svm_predictions.csv')\n",
    "\n",
    "# Compare the two DataFrames\n",
    "differences = df1.compare(df2)\n",
    "\n",
    "# Print the differences\n",
    "print(\"Differences between csv1 with csv2\")\n",
    "print(differences)"
   ]
  },
  {
   "cell_type": "markdown",
   "metadata": {},
   "source": [
    "## View top models from grid search"
   ]
  },
  {
   "cell_type": "code",
   "execution_count": 72,
   "metadata": {},
   "outputs": [],
   "source": [
    "def viewTopModels(results, num):\n",
    "    # Sort the results by mean_test_score in descending order to find the top-performing models\n",
    "    top_models = results.sort_values(by='mean_test_score', ascending=False).head(num)\n",
    "\n",
    "    # Print the top models along with their parameters and scores\n",
    "    print(f\"Top {num} Models:\")\n",
    "    top_models[['params', 'mean_test_score']].to_csv(\"top_models.csv\", index=False)\n"
   ]
  },
  {
   "cell_type": "markdown",
   "metadata": {},
   "source": []
  }
 ],
 "metadata": {
  "kernelspec": {
   "display_name": "Python 3",
   "language": "python",
   "name": "python3"
  },
  "language_info": {
   "codemirror_mode": {
    "name": "ipython",
    "version": 3
   },
   "file_extension": ".py",
   "mimetype": "text/x-python",
   "name": "python",
   "nbconvert_exporter": "python",
   "pygments_lexer": "ipython3",
   "version": "3.11.5"
  }
 },
 "nbformat": 4,
 "nbformat_minor": 2
}
